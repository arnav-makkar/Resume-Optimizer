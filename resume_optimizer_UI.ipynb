{
 "cells": [
  {
   "cell_type": "markdown",
   "id": "37193417-4ed8-4fb1-932f-90d1f6ed559e",
   "metadata": {},
   "source": [
    "## Gradio UI"
   ]
  },
  {
   "cell_type": "code",
   "execution_count": 1,
   "id": "752623ce-18cb-48d1-9616-b7ab31d2d31c",
   "metadata": {},
   "outputs": [],
   "source": [
    "import gradio as gr\n",
    "from functions import *"
   ]
  },
  {
   "cell_type": "code",
   "execution_count": 2,
   "id": "4c0896bc-f276-4c3b-a0d2-e886e2b39019",
   "metadata": {},
   "outputs": [
    {
     "name": "stdout",
     "output_type": "stream",
     "text": [
      "* Running on local URL:  http://127.0.0.1:7860\n",
      "* Running on public URL: https://cee399afa6e920641d.gradio.live\n",
      "\n",
      "This share link expires in 72 hours. For free permanent hosting and GPU upgrades, run `gradio deploy` from the terminal in the working directory to deploy to Hugging Face Spaces (https://huggingface.co/spaces)\n"
     ]
    },
    {
     "data": {
      "text/html": [
       "<div><iframe src=\"https://cee399afa6e920641d.gradio.live\" width=\"100%\" height=\"500\" allow=\"autoplay; camera; microphone; clipboard-read; clipboard-write;\" frameborder=\"0\" allowfullscreen></iframe></div>"
      ],
      "text/plain": [
       "<IPython.core.display.HTML object>"
      ]
     },
     "metadata": {},
     "output_type": "display_data"
    },
    {
     "data": {
      "text/plain": []
     },
     "execution_count": 2,
     "metadata": {},
     "output_type": "execute_result"
    }
   ],
   "source": [
    "with gr.Blocks() as app:\n",
    "    gr.Markdown(\"# Resume Optimizer 📄\")\n",
    "    gr.Markdown(\"Upload your resume, paste the job description, and get actionable insights!\")\n",
    "\n",
    "    with gr.Row():\n",
    "        resume_input = gr.File(label=\"Upload Your Resume (.md)\")    \n",
    "        jd_input = gr.Textbox(label=\"Paste the Job Description Here\", lines=9, interactive=True, placeholder=\"Paste job description...\")\n",
    "    run_button = gr.Button(\"Optimize Resume 🤖\")\n",
    "\n",
    "    output_resume_md = gr.Markdown(label=\"New Resume\")\n",
    "    output_suggestions = gr.Markdown(label=\"Suggestions\")\n",
    "\n",
    "    output_resume = gr.Textbox(label=\"Edit resume and export!\", interactive=True)\n",
    "    export_button = gr.Button(\"Export Resume as PDF 🚀\")\n",
    "    export_result = gr.Markdown(label=\"Export Result\")\n",
    "    \n",
    "    run_button.click(process_resume, inputs=[resume_input, jd_input], outputs=[output_resume_md, output_resume, output_suggestions])\n",
    "    export_button.click(export_resume, inputs=[output_resume], outputs=[export_result])\n",
    "\n",
    "app.launch(share=True)"
   ]
  },
  {
   "cell_type": "code",
   "execution_count": null,
   "id": "354b8db9",
   "metadata": {},
   "outputs": [],
   "source": []
  }
 ],
 "metadata": {
  "kernelspec": {
   "display_name": "Python 3",
   "language": "python",
   "name": "python3"
  },
  "language_info": {
   "codemirror_mode": {
    "name": "ipython",
    "version": 3
   },
   "file_extension": ".py",
   "mimetype": "text/x-python",
   "name": "python",
   "nbconvert_exporter": "python",
   "pygments_lexer": "ipython3",
   "version": "3.12.1"
  }
 },
 "nbformat": 4,
 "nbformat_minor": 5
}
