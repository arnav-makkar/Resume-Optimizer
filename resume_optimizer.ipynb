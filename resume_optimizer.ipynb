{
 "cells": [
  {
   "cell_type": "markdown",
   "id": "f31843b4-80d3-4832-8e4a-5722842bee87",
   "metadata": {},
   "source": [
    "## Resume Optimizer using Llama 3.3-70B-versatile"
   ]
  },
  {
   "cell_type": "code",
   "execution_count": 8,
   "id": "a7519d8c-5f98-43af-9898-2ea65b7fdc57",
   "metadata": {},
   "outputs": [],
   "source": [
    "from IPython.display import display, Markdown\n",
    "from groq_api_key import api_key\n",
    "from groq import Groq\n",
    "\n",
    "from markdown import markdown\n",
    "from weasyprint import HTML"
   ]
  },
  {
   "cell_type": "code",
   "execution_count": 9,
   "id": "2eadad78-80c6-451b-a0f6-86c62d3e2690",
   "metadata": {},
   "outputs": [
    {
     "data": {
      "text/markdown": [
       "# ELON MUSK\n",
       "***CEO, Entrepreneur, Engineer, Inventor***\n",
       "\n",
       "**Email**: elon.musk@teslamotors.com\n",
       "\n",
       "---\n",
       "\n",
       "## SUMMARY  SKILLS\n",
       "\n",
       "Successful entrepreneur with 20+ years founding and steering highly profitable companies. Seeking to leverage my passion for innovation to tackle climate change and ensure human progress through sustainable manufacturing and space exploration initiatives. \n",
       "\n",
       "## EXPERIENCE\n",
       "\n",
       "### **FOUNDER** *The Boring Company  /  2017 – Present* \n",
       "\n",
       "- Secured a $48 million contract from the Las Vegas Convention and Visitors Authority to construct an underground loop system. \n",
       "- Awarded a contract by the city of Chicago to provide high-speed transportation between the city center and O’Hare airport. \n",
       "\n",
       "### **CO-FOUNDER / FORMER CHAIRMAN** *SolarCity  /  2006 – Present* \n",
       "\n",
       "- Expanded SolarCity’s capacity, installing over 870MW of solar power in 2015 (28% of all non-utility solar installation in the U.S. that year). \n",
       "- Merged SolarCity with Tesla to maximize synergies and accelerate the world’s transition to sustainable energy. \n",
       "- Established SolarCity as the most popular U.S. solar installation company in 2008 through a no-money-down leasing program.  \n",
       "\n",
       "### **CEO / PRODUCT ARCHITECT** *Tesla, Inc.  /  2004 – Present* \n",
       "\n",
       "- Led Tesla to surpass GM as the most valuable car manufacturer in the United States. \n",
       "- Launched Tesla’s initial public offering, raising over $226 million. \n",
       "- Increased Tesla sales by 50% in 2019, bringing total global sales to nearly 900 thousand units. \n",
       "- Developed and brought to market a series of cutting-edge lithium batteries, cementing Tesla as an industry leader in green technology. \n",
       "\n",
       "### **CEO / FOUNDER / LEAD DESIGNER** *SpaceX  /  2002 - Present* \n",
       "\n",
       "- Successfully test launched the Falcon Heavy Rocket, the highest-capacity rocket in the world. \n",
       "- Negotiated a key contract with NASA to handle cargo transport for the International Space Station. \n",
       "- Supervised 89 successful full mission launches of the Falcon 9 rocket. \n",
       "- Spearheaded the development of rockets developed from reusable parts, paving the way for affordable space travel.\n",
       "\n",
       "## ACHIEVEMENTS\n",
       "\n",
       "- 7th Richest Person in the World – Fortune (2020) \n",
       "- Fortune Businessperson of the Year (2013) \n",
       "- WSJ Innovator of the Year Award in Technology (2011) \n",
       "- Edison Achievement Award Honoree (2014) \n",
       "- FAI Gold Space Medal (2010) \n",
       "\n",
       "## SKILLS\n",
       "\n",
       "- Product Development\n",
       "- Forward Thinking\n",
       "- Cutting-Edge Innovation\n",
       "- Marketing Expert \n",
       "- Space Exploration \n",
       "- Corporate Leadership\n",
       "- Enthusiastic Learner\n",
       "\n",
       "---\n",
       "\n",
       "## HONORS\n",
       "\n",
       "### **Honorary Doctorate in Engineering & Technology** *Yale University*"
      ],
      "text/plain": [
       "<IPython.core.display.Markdown object>"
      ]
     },
     "metadata": {},
     "output_type": "display_data"
    }
   ],
   "source": [
    "with open(\"resumes/resume.md\", \"r\", encoding=\"utf-8\") as file:\n",
    "    resume_string = file.read()\n",
    "\n",
    "display(Markdown(resume_string))"
   ]
  },
  {
   "cell_type": "code",
   "execution_count": 10,
   "id": "11562042-ba1a-4703-b38e-03f96031bee5",
   "metadata": {},
   "outputs": [],
   "source": [
    "jd_string = input()"
   ]
  },
  {
   "cell_type": "code",
   "execution_count": 11,
   "id": "87b05995-b9a2-4204-9c37-771efbb644a6",
   "metadata": {
    "jupyter": {
     "source_hidden": true
    }
   },
   "outputs": [],
   "source": [
    "prompt_template = lambda resume_string, jd_string : f\"\"\"\n",
    "You are a professional resume optimization expert specializing in tailoring resumes to specific job descriptions. Your goal is to optimize my resume and provide actionable suggestions for improvement to align with the target role.\n",
    "\n",
    "### Guidelines:\n",
    "1. **Relevance**:  \n",
    "   - Prioritize experiences, skills, and achievements **most relevant to the job description**.  \n",
    "   - Remove or de-emphasize irrelevant details to ensure a **concise** and **targeted** resume.\n",
    "   - Limit work experience section to 2-3 most relevant roles\n",
    "   - Limit bullet points under each role to 2-3 most relevant impacts\n",
    "\n",
    "2. **Action-Driven Results**:  \n",
    "   - Use **strong action verbs** and **quantifiable results** (e.g., percentages, revenue, efficiency improvements) to highlight impact.  \n",
    "\n",
    "3. **Keyword Optimization**:  \n",
    "   - Integrate **keywords** and phrases from the job description naturally to optimize for ATS (Applicant Tracking Systems).  \n",
    "\n",
    "4. **Additional Suggestions** *(If Gaps Exist)*:  \n",
    "   - If the resume does not fully align with the job description, suggest:  \n",
    "     1. **Additional technical or soft skills** that I could add to make my profile stronger.  \n",
    "     2. **Certifications or courses** I could pursue to bridge the gap.  \n",
    "     3. **Project ideas or experiences** that would better align with the role.  \n",
    "\n",
    "5. **Formatting**:  \n",
    "   - Output the tailored resume in **clean Markdown format**.  \n",
    "   - Include an **\"Additional Suggestions\"** section at the end with actionable improvement recommendations.  \n",
    "\n",
    "---\n",
    "\n",
    "### Input:\n",
    "- **My resume**:  \n",
    "{resume_string}\n",
    "\n",
    "- **The job description**:  \n",
    "{jd_string}\n",
    "\n",
    "---\n",
    "\n",
    "### Output:  \n",
    "1. **Tailored Resume**:  \n",
    "   - A resume in **Markdown format** that emphasizes relevant experience, skills, and achievements.  \n",
    "   - Incorporates job description **keywords** to optimize for ATS.  \n",
    "   - Uses strong language and is no longer than **one page**.\n",
    "\n",
    "2. **Additional Suggestions** *(if applicable)*:  \n",
    "   - List **skills** that could strengthen alignment with the role.  \n",
    "   - Recommend **certifications or courses** to pursue.  \n",
    "   - Suggest **specific projects or experiences** to develop.\n",
    "\"\"\""
   ]
  },
  {
   "cell_type": "code",
   "execution_count": 12,
   "id": "071b2065-775b-4016-b5fd-0b41749c244f",
   "metadata": {
    "scrolled": true
   },
   "outputs": [],
   "source": [
    "prompt = prompt_template(resume_string, jd_string)"
   ]
  },
  {
   "cell_type": "code",
   "execution_count": 13,
   "id": "a5eb19bc-7cb2-44df-8795-a13695414380",
   "metadata": {},
   "outputs": [],
   "source": [
    "client = Groq(api_key=api_key)\n",
    "\n",
    "response = client.chat.completions.create(\n",
    "    model=\"llama-3.3-70b-versatile\",\n",
    "    messages=[\n",
    "        {\"role\": \"system\", \"content\": \"Expert resume writer\"},\n",
    "        {\"role\": \"user\", \"content\": prompt}\n",
    "    ], \n",
    "    temperature = 0.7\n",
    ")\n",
    "\n",
    "response_string = response.choices[0].message.content"
   ]
  },
  {
   "cell_type": "code",
   "execution_count": 14,
   "id": "8ca46d3f-e22c-4ea0-8425-f62bea16b932",
   "metadata": {},
   "outputs": [],
   "source": [
    "# separate new resume from improvement suggestions\n",
    "response_list = response_string.split(\"## Additional Suggestions\")"
   ]
  },
  {
   "cell_type": "code",
   "execution_count": 15,
   "id": "2b83cb9a-6ac7-4db9-9591-07f48632663c",
   "metadata": {},
   "outputs": [
    {
     "data": {
      "text/markdown": [
       "### Tailored Resume\n",
       "# Elon Musk\n",
       "***Educational Leader & Innovator***\n",
       "\n",
       "**Email**: elon.musk@education.com\n",
       "\n",
       "## SUMMARY\n",
       "Dedicated and passionate educational leader with experience in driving innovation and progress. Skilled in curriculum development, classroom management, and fostering a love of learning. Seeking to apply my unique blend of entrepreneurial and educational skills to a primary school teaching role.\n",
       "\n",
       "## EXPERIENCE\n",
       "\n",
       "### **FOUNDER & EDUCATIONAL INNOVATOR** *Various Initiatives  /  2000 – Present*\n",
       "\n",
       "- Developed and implemented engaging educational programs, incorporating technology and hands-on activities to enhance learning.\n",
       "- Successfully managed and motivated teams to achieve educational goals, promoting a positive and inclusive atmosphere.\n",
       "- Designed and delivered curriculum-aligned lesson plans, differentiating instruction to cater to diverse learning needs.\n",
       "\n",
       "### **LEADERSHIP & MANAGEMENT** *The Boring Company, SpaceX, Tesla  /  2002 – Present*\n",
       "\n",
       "- Demonstrated excellent communication and interpersonal skills, collaborating with cross-functional teams and stakeholders.\n",
       "- Utilized patience, creativity, and adaptability to drive innovation and progress in fast-paced environments.\n",
       "- Effectively managed time and prioritized tasks to achieve strategic objectives.\n",
       "\n",
       "### **EDUCATIONAL CONSULTANT** *SolarCity  /  2006 – 2016*\n",
       "\n",
       "- Provided educational support and resources to employees, promoting a culture of continuous learning and development.\n",
       "- Contributed to the development of educational programs and materials, aligning with company goals and objectives.\n",
       "\n",
       "## SKILLS\n",
       "\n",
       "- Curriculum Development\n",
       "- Classroom Management\n",
       "- Educational Technology\n",
       "- Leadership & Management\n",
       "- Communication & Interpersonal Skills\n",
       "- Adaptability & Creativity\n",
       "\n",
       "## ADDITIONAL SKILLS\n",
       "\n",
       "- Proficient in Microsoft Office and Google Suite\n",
       "- Experience with educational software and platforms\n",
       "- Strong understanding of primary school curriculum standards\n",
       "\n",
       "## EDUCATION\n",
       "\n",
       "- **Honorary Doctorate in Engineering & Technology**, Yale University\n",
       "\n",
       "---\n",
       "\n",
       "#"
      ],
      "text/plain": [
       "<IPython.core.display.Markdown object>"
      ]
     },
     "metadata": {},
     "output_type": "display_data"
    }
   ],
   "source": [
    "display(Markdown(response_list[0]))"
   ]
  },
  {
   "cell_type": "code",
   "execution_count": 17,
   "id": "e088f6ff-8e49-4ddc-a6bf-f847426a3b29",
   "metadata": {},
   "outputs": [],
   "source": [
    "output_pdf_file = \"downloads/resume_new.pdf\"\n",
    "\n",
    "# Convert Markdown to HTML\n",
    "html_content = markdown(response_list[0])\n",
    "\n",
    "# Convert HTML to PDF and save\n",
    "HTML(string=html_content).write_pdf(output_pdf_file, stylesheets=['resumes/style.css'])"
   ]
  },
  {
   "cell_type": "code",
   "execution_count": 19,
   "id": "30adb6b1-68b6-4951-8bfc-19db1ef9eb3a",
   "metadata": {},
   "outputs": [],
   "source": [
    "# save as markdown\n",
    "output_file = \"downloads/resume_new.md\"\n",
    "\n",
    "with open(output_file, \"w\", encoding=\"utf-8\") as file:\n",
    "    file.write(response_list[0])"
   ]
  },
  {
   "cell_type": "code",
   "execution_count": 20,
   "id": "0f7397eb-d6cc-45e5-8cbd-bec6cc0cfc3b",
   "metadata": {},
   "outputs": [
    {
     "data": {
      "text/markdown": [
       "\n",
       "To strengthen alignment with the primary school teaching role, consider developing the following skills:\n",
       "\n",
       "1. **Child Development & Psychology**: Pursue courses or certifications in child development, educational psychology, or special education to deepen understanding of student needs and behaviors.\n",
       "2. **Classroom Technology**: Enhance proficiency in educational technology, such as learning management systems, online resources, and multimedia tools, to create engaging and interactive lessons.\n",
       "3. **Curriculum Design**: Develop expertise in curriculum design and development, focusing on primary school standards and frameworks, to create effective and aligned lesson plans.\n",
       "\n",
       "Recommended certifications or courses:\n",
       "\n",
       "1. **Teaching Certification**: Obtain a teaching certification or license to demonstrate expertise and commitment to the profession.\n",
       "2. **Special Education**: Pursue a certification or course in special education to support students with diverse learning needs.\n",
       "3. **Educational Leadership**: Consider a course or certification in educational leadership to develop skills in school management, policy, and advocacy.\n",
       "\n",
       "Project ideas or experiences to develop:\n",
       "\n",
       "1. **Volunteer Teaching**: Volunteer to teach or assist in a primary school setting to gain hands-on experience and build confidence.\n",
       "2. **Education-Based Projects**: Develop and implement education-based projects, such as creating educational resources, designing curriculum materials, or organizing community events, to demonstrate expertise and passion for education.\n",
       "3. **Mentorship**: Seek mentorship from experienced educators or educational leaders to gain insights, guidance, and support in developing teaching skills and strategies."
      ],
      "text/plain": [
       "<IPython.core.display.Markdown object>"
      ]
     },
     "metadata": {},
     "output_type": "display_data"
    }
   ],
   "source": [
    "display(Markdown(response_list[1]))"
   ]
  },
  {
   "cell_type": "code",
   "execution_count": null,
   "id": "5411388d",
   "metadata": {},
   "outputs": [],
   "source": []
  }
 ],
 "metadata": {
  "kernelspec": {
   "display_name": "Python 3",
   "language": "python",
   "name": "python3"
  },
  "language_info": {
   "codemirror_mode": {
    "name": "ipython",
    "version": 3
   },
   "file_extension": ".py",
   "mimetype": "text/x-python",
   "name": "python",
   "nbconvert_exporter": "python",
   "pygments_lexer": "ipython3",
   "version": "3.12.1"
  }
 },
 "nbformat": 4,
 "nbformat_minor": 5
}
